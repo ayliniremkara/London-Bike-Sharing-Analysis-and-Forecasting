{
 "cells": [
  {
   "cell_type": "code",
   "execution_count": 24,
   "id": "95e5fa2b-6176-4748-8899-2ad96280fee8",
   "metadata": {},
   "outputs": [],
   "source": [
    "import numpy as np \n",
    "import pandas as pd # data processing, CSV file I/O (e.g. pd.read_csv)\n",
    "import matplotlib.pyplot as plt"
   ]
  },
  {
   "cell_type": "markdown",
   "id": "9af0d3f7",
   "metadata": {
    "papermill": {
     "duration": 0.003688,
     "end_time": "2025-01-04T22:46:44.82863",
     "exception": false,
     "start_time": "2025-01-04T22:46:44.824942",
     "status": "completed"
    },
    "tags": []
   },
   "source": [
    "**1. Understandind Data**"
   ]
  },
  {
   "cell_type": "code",
   "execution_count": 25,
   "id": "c8431032",
   "metadata": {
    "papermill": {
     "duration": 0.064623,
     "end_time": "2025-01-04T22:46:44.89704",
     "exception": false,
     "start_time": "2025-01-04T22:46:44.832417",
     "status": "completed"
    },
    "tags": []
   },
   "outputs": [],
   "source": [
    "df = pd.read_csv('data/london_merged.csv')"
   ]
  },
  {
   "cell_type": "code",
   "execution_count": 26,
   "id": "2ee83cc3",
   "metadata": {
    "papermill": {
     "duration": 0.03106,
     "end_time": "2025-01-04T22:46:44.93243",
     "exception": false,
     "start_time": "2025-01-04T22:46:44.90137",
     "status": "completed"
    },
    "tags": []
   },
   "outputs": [
    {
     "data": {
      "text/html": [
       "<div>\n",
       "<style scoped>\n",
       "    .dataframe tbody tr th:only-of-type {\n",
       "        vertical-align: middle;\n",
       "    }\n",
       "\n",
       "    .dataframe tbody tr th {\n",
       "        vertical-align: top;\n",
       "    }\n",
       "\n",
       "    .dataframe thead th {\n",
       "        text-align: right;\n",
       "    }\n",
       "</style>\n",
       "<table border=\"1\" class=\"dataframe\">\n",
       "  <thead>\n",
       "    <tr style=\"text-align: right;\">\n",
       "      <th></th>\n",
       "      <th>timestamp</th>\n",
       "      <th>cnt</th>\n",
       "      <th>t1</th>\n",
       "      <th>t2</th>\n",
       "      <th>hum</th>\n",
       "      <th>wind_speed</th>\n",
       "      <th>weather_code</th>\n",
       "      <th>is_holiday</th>\n",
       "      <th>is_weekend</th>\n",
       "      <th>season</th>\n",
       "    </tr>\n",
       "  </thead>\n",
       "  <tbody>\n",
       "    <tr>\n",
       "      <th>0</th>\n",
       "      <td>2015-01-04 00:00:00</td>\n",
       "      <td>182</td>\n",
       "      <td>3.0</td>\n",
       "      <td>2.0</td>\n",
       "      <td>93.0</td>\n",
       "      <td>6.0</td>\n",
       "      <td>3.0</td>\n",
       "      <td>0.0</td>\n",
       "      <td>1.0</td>\n",
       "      <td>3.0</td>\n",
       "    </tr>\n",
       "    <tr>\n",
       "      <th>1</th>\n",
       "      <td>2015-01-04 01:00:00</td>\n",
       "      <td>138</td>\n",
       "      <td>3.0</td>\n",
       "      <td>2.5</td>\n",
       "      <td>93.0</td>\n",
       "      <td>5.0</td>\n",
       "      <td>1.0</td>\n",
       "      <td>0.0</td>\n",
       "      <td>1.0</td>\n",
       "      <td>3.0</td>\n",
       "    </tr>\n",
       "    <tr>\n",
       "      <th>2</th>\n",
       "      <td>2015-01-04 02:00:00</td>\n",
       "      <td>134</td>\n",
       "      <td>2.5</td>\n",
       "      <td>2.5</td>\n",
       "      <td>96.5</td>\n",
       "      <td>0.0</td>\n",
       "      <td>1.0</td>\n",
       "      <td>0.0</td>\n",
       "      <td>1.0</td>\n",
       "      <td>3.0</td>\n",
       "    </tr>\n",
       "    <tr>\n",
       "      <th>3</th>\n",
       "      <td>2015-01-04 03:00:00</td>\n",
       "      <td>72</td>\n",
       "      <td>2.0</td>\n",
       "      <td>2.0</td>\n",
       "      <td>100.0</td>\n",
       "      <td>0.0</td>\n",
       "      <td>1.0</td>\n",
       "      <td>0.0</td>\n",
       "      <td>1.0</td>\n",
       "      <td>3.0</td>\n",
       "    </tr>\n",
       "    <tr>\n",
       "      <th>4</th>\n",
       "      <td>2015-01-04 04:00:00</td>\n",
       "      <td>47</td>\n",
       "      <td>2.0</td>\n",
       "      <td>0.0</td>\n",
       "      <td>93.0</td>\n",
       "      <td>6.5</td>\n",
       "      <td>1.0</td>\n",
       "      <td>0.0</td>\n",
       "      <td>1.0</td>\n",
       "      <td>3.0</td>\n",
       "    </tr>\n",
       "  </tbody>\n",
       "</table>\n",
       "</div>"
      ],
      "text/plain": [
       "             timestamp  cnt   t1   t2    hum  wind_speed  weather_code  \\\n",
       "0  2015-01-04 00:00:00  182  3.0  2.0   93.0         6.0           3.0   \n",
       "1  2015-01-04 01:00:00  138  3.0  2.5   93.0         5.0           1.0   \n",
       "2  2015-01-04 02:00:00  134  2.5  2.5   96.5         0.0           1.0   \n",
       "3  2015-01-04 03:00:00   72  2.0  2.0  100.0         0.0           1.0   \n",
       "4  2015-01-04 04:00:00   47  2.0  0.0   93.0         6.5           1.0   \n",
       "\n",
       "   is_holiday  is_weekend  season  \n",
       "0         0.0         1.0     3.0  \n",
       "1         0.0         1.0     3.0  \n",
       "2         0.0         1.0     3.0  \n",
       "3         0.0         1.0     3.0  \n",
       "4         0.0         1.0     3.0  "
      ]
     },
     "execution_count": 26,
     "metadata": {},
     "output_type": "execute_result"
    }
   ],
   "source": [
    "df.head()"
   ]
  },
  {
   "cell_type": "code",
   "execution_count": 27,
   "id": "0da9f516",
   "metadata": {
    "papermill": {
     "duration": 0.031393,
     "end_time": "2025-01-04T22:46:44.9681",
     "exception": false,
     "start_time": "2025-01-04T22:46:44.936707",
     "status": "completed"
    },
    "tags": []
   },
   "outputs": [
    {
     "name": "stdout",
     "output_type": "stream",
     "text": [
      "<class 'pandas.core.frame.DataFrame'>\n",
      "RangeIndex: 17414 entries, 0 to 17413\n",
      "Data columns (total 10 columns):\n",
      " #   Column        Non-Null Count  Dtype  \n",
      "---  ------        --------------  -----  \n",
      " 0   timestamp     17414 non-null  object \n",
      " 1   cnt           17414 non-null  int64  \n",
      " 2   t1            17414 non-null  float64\n",
      " 3   t2            17414 non-null  float64\n",
      " 4   hum           17414 non-null  float64\n",
      " 5   wind_speed    17414 non-null  float64\n",
      " 6   weather_code  17414 non-null  float64\n",
      " 7   is_holiday    17414 non-null  float64\n",
      " 8   is_weekend    17414 non-null  float64\n",
      " 9   season        17414 non-null  float64\n",
      "dtypes: float64(8), int64(1), object(1)\n",
      "memory usage: 1.3+ MB\n"
     ]
    }
   ],
   "source": [
    "df.info()"
   ]
  },
  {
   "cell_type": "code",
   "execution_count": 28,
   "id": "f8ea7e86",
   "metadata": {
    "papermill": {
     "duration": 0.012424,
     "end_time": "2025-01-04T22:46:44.984849",
     "exception": false,
     "start_time": "2025-01-04T22:46:44.972425",
     "status": "completed"
    },
    "tags": []
   },
   "outputs": [
    {
     "data": {
      "text/plain": [
       "(17414, 10)"
      ]
     },
     "execution_count": 28,
     "metadata": {},
     "output_type": "execute_result"
    }
   ],
   "source": [
    "df.shape"
   ]
  },
  {
   "cell_type": "markdown",
   "id": "cf8b9abd",
   "metadata": {
    "papermill": {
     "duration": 0.004009,
     "end_time": "2025-01-04T22:46:44.9933",
     "exception": false,
     "start_time": "2025-01-04T22:46:44.989291",
     "status": "completed"
    },
    "tags": []
   },
   "source": [
    "**2. Preparing Data**"
   ]
  },
  {
   "cell_type": "code",
   "execution_count": 29,
   "id": "e9afba14",
   "metadata": {
    "papermill": {
     "duration": 0.012218,
     "end_time": "2025-01-04T22:46:45.010084",
     "exception": false,
     "start_time": "2025-01-04T22:46:44.997866",
     "status": "completed"
    },
    "tags": []
   },
   "outputs": [],
   "source": [
    "#rename columns \n",
    "columns_dict = {'timestamp':'time',\n",
    "               'cnt':'count',\n",
    "               't1':'real_tempature',\n",
    "               't2':'feels_like_tempature',\n",
    "               'hum':'humidity_percent',\n",
    "               'wind_speed':'wind_speed_kph',\n",
    "               'weather_code':'weather',\n",
    "               'is_holiday':'is_holiday',\n",
    "               'is_weekend':'is_weekend',\n",
    "               'season':'season'}\n",
    "df.rename(columns_dict, axis=1, inplace=True)"
   ]
  },
  {
   "cell_type": "code",
   "execution_count": 30,
   "id": "82746449",
   "metadata": {
    "papermill": {
     "duration": 0.018029,
     "end_time": "2025-01-04T22:46:45.032483",
     "exception": false,
     "start_time": "2025-01-04T22:46:45.014454",
     "status": "completed"
    },
    "tags": []
   },
   "outputs": [
    {
     "name": "stdout",
     "output_type": "stream",
     "text": [
      "<class 'pandas.core.frame.DataFrame'>\n",
      "RangeIndex: 17414 entries, 0 to 17413\n",
      "Data columns (total 10 columns):\n",
      " #   Column                Non-Null Count  Dtype  \n",
      "---  ------                --------------  -----  \n",
      " 0   time                  17414 non-null  object \n",
      " 1   count                 17414 non-null  int64  \n",
      " 2   real_tempature        17414 non-null  float64\n",
      " 3   feels_like_tempature  17414 non-null  float64\n",
      " 4   humidity_percent      17414 non-null  float64\n",
      " 5   wind_speed_kph        17414 non-null  float64\n",
      " 6   weather               17414 non-null  float64\n",
      " 7   is_holiday            17414 non-null  float64\n",
      " 8   is_weekend            17414 non-null  float64\n",
      " 9   season                17414 non-null  float64\n",
      "dtypes: float64(8), int64(1), object(1)\n",
      "memory usage: 1.3+ MB\n"
     ]
    }
   ],
   "source": [
    "df.info()"
   ]
  },
  {
   "cell_type": "code",
   "execution_count": 31,
   "id": "661750f4",
   "metadata": {
    "papermill": {
     "duration": 0.012881,
     "end_time": "2025-01-04T22:46:45.049996",
     "exception": false,
     "start_time": "2025-01-04T22:46:45.037115",
     "status": "completed"
    },
    "tags": []
   },
   "outputs": [],
   "source": [
    "#to convert values to percentages\n",
    "df.humidity_percent = df.humidity_percent/100"
   ]
  },
  {
   "cell_type": "code",
   "execution_count": 32,
   "id": "084858be",
   "metadata": {
    "papermill": {
     "duration": 0.010485,
     "end_time": "2025-01-04T22:46:45.064981",
     "exception": false,
     "start_time": "2025-01-04T22:46:45.054496",
     "status": "completed"
    },
    "tags": []
   },
   "outputs": [],
   "source": [
    "#creating a season dictionary to map integers to the actual values\n",
    "#\"season\" - category field meteorological seasons: 0-spring ; 1-summer; 2-fall; 3-winter.\n",
    "\n",
    "season_dict = {\n",
    "    '0.0':'spring',\n",
    "    '1.0':'summer',\n",
    "    '2.0':'autumn',\n",
    "    '3.0':'winter'\n",
    "}"
   ]
  },
  {
   "cell_type": "code",
   "execution_count": 33,
   "id": "d480de97",
   "metadata": {
    "papermill": {
     "duration": 0.010596,
     "end_time": "2025-01-04T22:46:45.079959",
     "exception": false,
     "start_time": "2025-01-04T22:46:45.069363",
     "status": "completed"
    },
    "tags": []
   },
   "outputs": [],
   "source": [
    "#creating a weather dictionary to map integers to the actual values\n",
    "#1 = Clear ; mostly clear but have some values with haze/fog/patches of fog/ fog in vicinity 2 = scattered clouds / few clouds 3 = Broken clouds 4 = Cloudy \n",
    "#7 = Rain/ light Rain shower/ Light rain 10 = rain with thunderstorm 26 = snowfall 94 = Freezing Fog\n",
    "\n",
    "weather_dict = {\n",
    "    '1.0':'Clear',\n",
    "    '2.0':'Scattered clouds',\n",
    "    '3.0':'Broken clouds',\n",
    "    '4.0':'Cloudy',\n",
    "    '7.0':'Rain',\n",
    "    '10.0':'Rain with thunderstorm',\n",
    "    '26.0':'Snowfall'\n",
    "\n",
    "}"
   ]
  },
  {
   "cell_type": "code",
   "execution_count": 34,
   "id": "e4e2055b",
   "metadata": {
    "papermill": {
     "duration": 0.036918,
     "end_time": "2025-01-04T22:46:45.121229",
     "exception": false,
     "start_time": "2025-01-04T22:46:45.084311",
     "status": "completed"
    },
    "tags": []
   },
   "outputs": [],
   "source": [
    "#type of 'weather' and 'season' columns are float. changing these column data types to string needed\n",
    "df.weather = df.weather.astype('str')\n",
    "df.weather = df.weather.map(weather_dict)\n",
    "\n",
    "df.season = df.season.astype('str')\n",
    "df.season = df.season.map(season_dict)"
   ]
  },
  {
   "cell_type": "code",
   "execution_count": 35,
   "id": "c9a37b86",
   "metadata": {
    "papermill": {
     "duration": 0.024924,
     "end_time": "2025-01-04T22:46:45.150842",
     "exception": false,
     "start_time": "2025-01-04T22:46:45.125918",
     "status": "completed"
    },
    "tags": []
   },
   "outputs": [
    {
     "data": {
      "text/html": [
       "<div>\n",
       "<style scoped>\n",
       "    .dataframe tbody tr th:only-of-type {\n",
       "        vertical-align: middle;\n",
       "    }\n",
       "\n",
       "    .dataframe tbody tr th {\n",
       "        vertical-align: top;\n",
       "    }\n",
       "\n",
       "    .dataframe thead th {\n",
       "        text-align: right;\n",
       "    }\n",
       "</style>\n",
       "<table border=\"1\" class=\"dataframe\">\n",
       "  <thead>\n",
       "    <tr style=\"text-align: right;\">\n",
       "      <th></th>\n",
       "      <th>time</th>\n",
       "      <th>count</th>\n",
       "      <th>real_tempature</th>\n",
       "      <th>feels_like_tempature</th>\n",
       "      <th>humidity_percent</th>\n",
       "      <th>wind_speed_kph</th>\n",
       "      <th>weather</th>\n",
       "      <th>is_holiday</th>\n",
       "      <th>is_weekend</th>\n",
       "      <th>season</th>\n",
       "    </tr>\n",
       "  </thead>\n",
       "  <tbody>\n",
       "    <tr>\n",
       "      <th>0</th>\n",
       "      <td>2015-01-04 00:00:00</td>\n",
       "      <td>182</td>\n",
       "      <td>3.0</td>\n",
       "      <td>2.0</td>\n",
       "      <td>0.930</td>\n",
       "      <td>6.0</td>\n",
       "      <td>Broken clouds</td>\n",
       "      <td>0.0</td>\n",
       "      <td>1.0</td>\n",
       "      <td>winter</td>\n",
       "    </tr>\n",
       "    <tr>\n",
       "      <th>1</th>\n",
       "      <td>2015-01-04 01:00:00</td>\n",
       "      <td>138</td>\n",
       "      <td>3.0</td>\n",
       "      <td>2.5</td>\n",
       "      <td>0.930</td>\n",
       "      <td>5.0</td>\n",
       "      <td>Clear</td>\n",
       "      <td>0.0</td>\n",
       "      <td>1.0</td>\n",
       "      <td>winter</td>\n",
       "    </tr>\n",
       "    <tr>\n",
       "      <th>2</th>\n",
       "      <td>2015-01-04 02:00:00</td>\n",
       "      <td>134</td>\n",
       "      <td>2.5</td>\n",
       "      <td>2.5</td>\n",
       "      <td>0.965</td>\n",
       "      <td>0.0</td>\n",
       "      <td>Clear</td>\n",
       "      <td>0.0</td>\n",
       "      <td>1.0</td>\n",
       "      <td>winter</td>\n",
       "    </tr>\n",
       "    <tr>\n",
       "      <th>3</th>\n",
       "      <td>2015-01-04 03:00:00</td>\n",
       "      <td>72</td>\n",
       "      <td>2.0</td>\n",
       "      <td>2.0</td>\n",
       "      <td>1.000</td>\n",
       "      <td>0.0</td>\n",
       "      <td>Clear</td>\n",
       "      <td>0.0</td>\n",
       "      <td>1.0</td>\n",
       "      <td>winter</td>\n",
       "    </tr>\n",
       "    <tr>\n",
       "      <th>4</th>\n",
       "      <td>2015-01-04 04:00:00</td>\n",
       "      <td>47</td>\n",
       "      <td>2.0</td>\n",
       "      <td>0.0</td>\n",
       "      <td>0.930</td>\n",
       "      <td>6.5</td>\n",
       "      <td>Clear</td>\n",
       "      <td>0.0</td>\n",
       "      <td>1.0</td>\n",
       "      <td>winter</td>\n",
       "    </tr>\n",
       "  </tbody>\n",
       "</table>\n",
       "</div>"
      ],
      "text/plain": [
       "                  time  count  real_tempature  feels_like_tempature  \\\n",
       "0  2015-01-04 00:00:00    182             3.0                   2.0   \n",
       "1  2015-01-04 01:00:00    138             3.0                   2.5   \n",
       "2  2015-01-04 02:00:00    134             2.5                   2.5   \n",
       "3  2015-01-04 03:00:00     72             2.0                   2.0   \n",
       "4  2015-01-04 04:00:00     47             2.0                   0.0   \n",
       "\n",
       "   humidity_percent  wind_speed_kph        weather  is_holiday  is_weekend  \\\n",
       "0             0.930             6.0  Broken clouds         0.0         1.0   \n",
       "1             0.930             5.0          Clear         0.0         1.0   \n",
       "2             0.965             0.0          Clear         0.0         1.0   \n",
       "3             1.000             0.0          Clear         0.0         1.0   \n",
       "4             0.930             6.5          Clear         0.0         1.0   \n",
       "\n",
       "   season  \n",
       "0  winter  \n",
       "1  winter  \n",
       "2  winter  \n",
       "3  winter  \n",
       "4  winter  "
      ]
     },
     "execution_count": 35,
     "metadata": {},
     "output_type": "execute_result"
    }
   ],
   "source": [
    "#to make sure that mappings have worked for season and weather columns\n",
    "df.head()"
   ]
  },
  {
   "cell_type": "code",
   "execution_count": 36,
   "id": "d2e37538",
   "metadata": {
    "papermill": {
     "duration": 0.042163,
     "end_time": "2025-01-04T22:46:45.197678",
     "exception": false,
     "start_time": "2025-01-04T22:46:45.155515",
     "status": "completed"
    },
    "tags": []
   },
   "outputs": [
    {
     "data": {
      "text/html": [
       "<div>\n",
       "<style scoped>\n",
       "    .dataframe tbody tr th:only-of-type {\n",
       "        vertical-align: middle;\n",
       "    }\n",
       "\n",
       "    .dataframe tbody tr th {\n",
       "        vertical-align: top;\n",
       "    }\n",
       "\n",
       "    .dataframe thead th {\n",
       "        text-align: right;\n",
       "    }\n",
       "</style>\n",
       "<table border=\"1\" class=\"dataframe\">\n",
       "  <thead>\n",
       "    <tr style=\"text-align: right;\">\n",
       "      <th></th>\n",
       "      <th>count</th>\n",
       "      <th>mean</th>\n",
       "      <th>std</th>\n",
       "      <th>min</th>\n",
       "      <th>25%</th>\n",
       "      <th>50%</th>\n",
       "      <th>75%</th>\n",
       "      <th>max</th>\n",
       "    </tr>\n",
       "  </thead>\n",
       "  <tbody>\n",
       "    <tr>\n",
       "      <th>count</th>\n",
       "      <td>17414.0</td>\n",
       "      <td>1143.101642</td>\n",
       "      <td>1085.108068</td>\n",
       "      <td>0.000</td>\n",
       "      <td>257.00</td>\n",
       "      <td>844.000</td>\n",
       "      <td>1671.75</td>\n",
       "      <td>7860.0</td>\n",
       "    </tr>\n",
       "    <tr>\n",
       "      <th>real_tempature</th>\n",
       "      <td>17414.0</td>\n",
       "      <td>12.468091</td>\n",
       "      <td>5.571818</td>\n",
       "      <td>-1.500</td>\n",
       "      <td>8.00</td>\n",
       "      <td>12.500</td>\n",
       "      <td>16.00</td>\n",
       "      <td>34.0</td>\n",
       "    </tr>\n",
       "    <tr>\n",
       "      <th>feels_like_tempature</th>\n",
       "      <td>17414.0</td>\n",
       "      <td>11.520836</td>\n",
       "      <td>6.615145</td>\n",
       "      <td>-6.000</td>\n",
       "      <td>6.00</td>\n",
       "      <td>12.500</td>\n",
       "      <td>16.00</td>\n",
       "      <td>34.0</td>\n",
       "    </tr>\n",
       "    <tr>\n",
       "      <th>humidity_percent</th>\n",
       "      <td>17414.0</td>\n",
       "      <td>0.723250</td>\n",
       "      <td>0.143132</td>\n",
       "      <td>0.205</td>\n",
       "      <td>0.63</td>\n",
       "      <td>0.745</td>\n",
       "      <td>0.83</td>\n",
       "      <td>1.0</td>\n",
       "    </tr>\n",
       "    <tr>\n",
       "      <th>wind_speed_kph</th>\n",
       "      <td>17414.0</td>\n",
       "      <td>15.913063</td>\n",
       "      <td>7.894570</td>\n",
       "      <td>0.000</td>\n",
       "      <td>10.00</td>\n",
       "      <td>15.000</td>\n",
       "      <td>20.50</td>\n",
       "      <td>56.5</td>\n",
       "    </tr>\n",
       "    <tr>\n",
       "      <th>is_holiday</th>\n",
       "      <td>17414.0</td>\n",
       "      <td>0.022051</td>\n",
       "      <td>0.146854</td>\n",
       "      <td>0.000</td>\n",
       "      <td>0.00</td>\n",
       "      <td>0.000</td>\n",
       "      <td>0.00</td>\n",
       "      <td>1.0</td>\n",
       "    </tr>\n",
       "    <tr>\n",
       "      <th>is_weekend</th>\n",
       "      <td>17414.0</td>\n",
       "      <td>0.285403</td>\n",
       "      <td>0.451619</td>\n",
       "      <td>0.000</td>\n",
       "      <td>0.00</td>\n",
       "      <td>0.000</td>\n",
       "      <td>1.00</td>\n",
       "      <td>1.0</td>\n",
       "    </tr>\n",
       "  </tbody>\n",
       "</table>\n",
       "</div>"
      ],
      "text/plain": [
       "                        count         mean          std    min     25%  \\\n",
       "count                 17414.0  1143.101642  1085.108068  0.000  257.00   \n",
       "real_tempature        17414.0    12.468091     5.571818 -1.500    8.00   \n",
       "feels_like_tempature  17414.0    11.520836     6.615145 -6.000    6.00   \n",
       "humidity_percent      17414.0     0.723250     0.143132  0.205    0.63   \n",
       "wind_speed_kph        17414.0    15.913063     7.894570  0.000   10.00   \n",
       "is_holiday            17414.0     0.022051     0.146854  0.000    0.00   \n",
       "is_weekend            17414.0     0.285403     0.451619  0.000    0.00   \n",
       "\n",
       "                          50%      75%     max  \n",
       "count                 844.000  1671.75  7860.0  \n",
       "real_tempature         12.500    16.00    34.0  \n",
       "feels_like_tempature   12.500    16.00    34.0  \n",
       "humidity_percent        0.745     0.83     1.0  \n",
       "wind_speed_kph         15.000    20.50    56.5  \n",
       "is_holiday              0.000     0.00     1.0  \n",
       "is_weekend              0.000     1.00     1.0  "
      ]
     },
     "execution_count": 36,
     "metadata": {},
     "output_type": "execute_result"
    }
   ],
   "source": [
    "#to generate descriptive statistics\n",
    "df.describe().T"
   ]
  },
  {
   "cell_type": "markdown",
   "id": "3910c6d2",
   "metadata": {
    "papermill": {
     "duration": 0.007907,
     "end_time": "2025-01-04T22:46:45.212229",
     "exception": false,
     "start_time": "2025-01-04T22:46:45.204322",
     "status": "completed"
    },
    "tags": []
   },
   "source": [
    "According to table,\n",
    "* 1143 bikes are rented on average daily.(mean of count: 1143.1)\n",
    "* Significant fluctuations/volatility in bike rentals.(std deviation of count: 1085.1)\n",
    "* The minimum value is 0, and the maximum value is 7860. This means that some days have no rentals (it can be holiday), while the maximum rental count on a busy day can be quite high.\n",
    "* The average temperature is 12.4 C\n",
    "* People feel a bit cooler than the actual temperature.(feels_like_temperature mean: 11.52 C)\n",
    "* The temperature ranges from -1.5 C to 34 C, indicating that data covers both cold and hot months.\n",
    "* The average humidity is 72.33%. Humidity impacts comfort and might influence bike rentals (e.g., people can avoid from riding bikes on highly humid days).\n",
    "* The holidays are not so common in this dataset. Only 2% of the days are holidays.(is_holiday mean: 0.02)\n",
    "* The weekdays are more common in this dataset. (is_weekend mean: 0.28)"
   ]
  },
  {
   "cell_type": "code",
   "execution_count": 37,
   "id": "52d21e01",
   "metadata": {
    "papermill": {
     "duration": 0.018606,
     "end_time": "2025-01-04T22:46:45.235881",
     "exception": false,
     "start_time": "2025-01-04T22:46:45.217275",
     "status": "completed"
    },
    "scrolled": true,
    "tags": []
   },
   "outputs": [
    {
     "data": {
      "text/plain": [
       "time                    0\n",
       "count                   0\n",
       "real_tempature          0\n",
       "feels_like_tempature    0\n",
       "humidity_percent        0\n",
       "wind_speed_kph          0\n",
       "weather                 0\n",
       "is_holiday              0\n",
       "is_weekend              0\n",
       "season                  0\n",
       "dtype: int64"
      ]
     },
     "execution_count": 37,
     "metadata": {},
     "output_type": "execute_result"
    }
   ],
   "source": [
    "#to check NULL values\n",
    "df.isnull().sum()"
   ]
  },
  {
   "cell_type": "markdown",
   "id": "119a2035-8316-4fb4-9c3c-4b245abeb1be",
   "metadata": {},
   "source": [
    "3. Save Data as Excel file in order to visualize data on Tableau"
   ]
  },
  {
   "cell_type": "code",
   "execution_count": 40,
   "id": "95dd9919",
   "metadata": {
    "papermill": {
     "duration": 0.004682,
     "end_time": "2025-01-04T22:46:45.245613",
     "exception": false,
     "start_time": "2025-01-04T22:46:45.240931",
     "status": "completed"
    },
    "tags": []
   },
   "outputs": [],
   "source": [
    "df.to_excel('london_bikes_sharing_analysis.xlsx', sheet_name = 'Bikes Data')"
   ]
  }
 ],
 "metadata": {
  "kaggle": {
   "accelerator": "none",
   "dataSources": [
    {
     "datasetId": 376751,
     "sourceId": 731448,
     "sourceType": "datasetVersion"
    }
   ],
   "dockerImageVersionId": 30822,
   "isGpuEnabled": false,
   "isInternetEnabled": true,
   "language": "python",
   "sourceType": "notebook"
  },
  "kernelspec": {
   "display_name": "Python 3 (ipykernel)",
   "language": "python",
   "name": "python3"
  },
  "language_info": {
   "codemirror_mode": {
    "name": "ipython",
    "version": 3
   },
   "file_extension": ".py",
   "mimetype": "text/x-python",
   "name": "python",
   "nbconvert_exporter": "python",
   "pygments_lexer": "ipython3",
   "version": "3.9.6"
  },
  "papermill": {
   "default_parameters": {},
   "duration": 3.541664,
   "end_time": "2025-01-04T22:46:45.770169",
   "environment_variables": {},
   "exception": null,
   "input_path": "__notebook__.ipynb",
   "output_path": "__notebook__.ipynb",
   "parameters": {},
   "start_time": "2025-01-04T22:46:42.228505",
   "version": "2.6.0"
  }
 },
 "nbformat": 4,
 "nbformat_minor": 5
}
